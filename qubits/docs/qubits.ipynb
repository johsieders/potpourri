{
 "cells": [
  {
   "cell_type": "markdown",
   "source": [
    "## placeholder"
   ],
   "metadata": {
    "collapsed": false,
    "pycharm": {
     "name": "#%% md\n"
    }
   }
  },
  {
   "cell_type": "markdown",
   "source": [
    "## Qubits"
   ],
   "metadata": {
    "collapsed": false
   }
  },
  {
   "cell_type": "markdown",
   "source": [
    "Bits are counted in billions, qubits in tens or so. Why are there so few? Because $n$ bits hold exactly one number of size $2^n$, whereas $n$ qubits can hold $2^n$ complex numbers at a time! So a quantum computer with 100 qubits would store an unimaginable amount of data. This is the first and most important difference between conventional and quantum computers. To understand how this is possible, let us start with a single qubit and then move on to two.\n"
   ],
   "metadata": {
    "collapsed": false
   }
  },
  {
   "cell_type": "markdown",
   "source": [
    "### Single Qubits and Quantum Gates"
   ],
   "metadata": {
    "collapsed": false
   }
  },
  {
   "cell_type": "code",
   "execution_count": null,
   "outputs": [],
   "source": [],
   "metadata": {
    "collapsed": false,
    "ExecuteTime": {
     "end_time": "2024-01-01T14:34:44.639746400Z",
     "start_time": "2024-01-01T14:34:44.635412700Z"
    }
   }
  },
  {
   "cell_type": "markdown",
   "source": [
    " A conventional bit is either $0$ or $1$, with nothing in between. A qubit can be $0$, $1$ or in a *superposition* of the two *base states* which means that the states $0$ and $1$ have certain probabilities, $p_0$ for state $0$ and $p_1 = 1 - p_0$ for state $1$. This is often illustrated by Schrödinger's cat locked in a box with a poison pill. The cat swallows the pill with probability $p_0$, and it's only when you open the box that you see whether the cat is alive or dead. This result is final -- once the box is opened, the cat remains what it is, alive or dead. The opening of the box corresponds to the measurement of the qubit, and the image correctly tells us that qbits can only be measured once. Another image is that of a coin: think of a qubit as a tampered coin that flips head and tail with probabilities of $p_0$ and $1 -p_0$. This coin stores the number $p_0$ with arbitrary precision! It can be obtained by repeated tosses of the coin --- a few tosses for a rough estimate, a thousand tosses or more for any degree of precision. The flip of the coin is equivalent to the measurement of the qubit; repeated measurements would be made on many identical qbits. The cat analogy is not helpful here.\n",
    " \n",
    "The picture given so far is correct only up to a point. In reality, the probabilities $p_0$ and $p_1$ are given by two complex numbers $\\alpha_0$ and $\\alpha_1$ which describe the probability of the states $0$ and $1$: $ p_i = |\\alpha_i|^2 \\text{  for }i = 0, 1$. We use ket notation and column vector notation in parallel. The *basis states* $\\[|0\\rangle\\] = \\begin{bmatrix}\n",
    "  1 \\\\\n",
    "  0\n",
    "\\end{bmatrix}$ and $ \\[|1\\rangle\\] = \\begin{bmatrix}\n",
    "  0 \\\\\n",
    "  1\n",
    "\\end{bmatrix}$ represent the basis of the 2-dimensional complex vector space $\\mathbb{C}^2$. We write for example: $\\begin{bmatrix}\n",
    "   1 \\\\\n",
    "  -1\n",
    "\\end{bmatrix} = \\[|0\\rangle \\] - \\[|1\\rangle\\] $. Each state $\\[|\\phi\\rangle\\] = \\begin{bmatrix}\n",
    "  \\alpha_0 \\\\\n",
    "  \\alpha_1\n",
    "\\end{bmatrix} = \\alpha_0 \\[| 0\\rangle\\] + \\alpha_1 \\[|1\\rangle\\]$  is a vector with norm $1$: $\\lVert \\[|\\phi\\rangle\\] \\lVert^2 = |\\alpha_0|^2 + |\\alpha_1|^2 = 1$. A qubit in a basis state is either $0$ or $1$, just like a conventional bit. There are three things that quantum computers can do with single qubits:\n",
    "\n",
    "1. They create qubits in basis states (not in any other).\n",
    "2. They manipulate qubits using quantum gates (more on this in a moment).\n",
    "3. They measure qubits. The result is one of the two basis states with probability $|\\alpha_0|^2$ or $|\\alpha_1|^2$, and nothing in between. As we said, you need repeated measurements of identical qubits to evaluate the probability with the desired accuracy.\n",
    "\n",
    "The building blocks of conventional computers are *logical gates* such as $NOT$, $AND$, and $OR$. The set $\\{NOT, AND\\}$ is an example of a complete set. This means that any function $f: \\{0, 1\\}^n \\rightarrow \\{0, 1\\}$ can be written as a combination of the given logical gates. The proof is by induction: The proof for $n = 1$ is easy, and you only need $NOT$ and $AND$ (or $NOT$ and $OR$) to get from $n$ to $n + 1$ (see box).\n",
    "\n",
    "The building blocks of quantum computers are *quantum gates*. They are called *n-qubit gates* depending on how many qubits they operate. An n-qubit gate is a *unitary* complex $2^n \\times 2^n$ matrix, i.e. 1-qubit gates are $2 \\times 2$, 2-qubit gates are $4 \\times 4$ and so on. A quantum gate $A$ transforms the state $|\\phi\\rangle$ into the state $A|\\phi\\rangle$ whose norm is again $1$. So $A$ must be *norm preserving*, and *unitary* is exactly that. Being unitary is equivalent to all columns (or all rows) of $A$ forming an orthonormal basis, and to the equality $A^{-1} = A^*$. We look at 1-qubit gates in this chapter, and at 2-qubit gates in the next. Let us start with the negation $X$ (or $\\sigma_x$):\n",
    "\n",
    "$X = \\begin{bmatrix}\n",
    "   0 & 1\\\\\n",
    "   1 & 0\n",
    "\\end{bmatrix} = \\sigma_x$\n",
    "\n",
    "This first example shows us how quantum gates work: First, you decide what to do with the basis states. Here, they are swapped, and so you get a matrix that swaps the elements of any state: $\\alpha_0|0\\rangle + \\alpha_1|1\\rangle$ becomes $\\alpha_1|0\\rangle + \\alpha_0|1\\rangle$. The matrix $X$ is obviously unitary. It is also *involutory* (i.e. equal to its inverse), and we have $\\det(X) = 1$. So it belongs to the group $SU(2)$. The gate $X$ is as close to classical negation as you can get in quantum computing. $X$ is one of three Pauli matrices that play an important role in quantum mechanics. The other two are:\n",
    "\n",
    "$Y = \\begin{bmatrix}\n",
    "   0 & -i\\\\\n",
    "   i & 0\n",
    "\\end{bmatrix} = \\sigma_y \\quad $ (Pauli-Y)\n",
    "\n",
    "$Z = \\begin{bmatrix}\n",
    "   1 & 0\\\\\n",
    "   0 & -1\n",
    "\\end{bmatrix} = \\sigma_z \\quad $ (Pauli-Z)\n",
    "\n",
    "The Hadamard gate $H$ mixes the base states, and being involutary, it can also be used to put the mess back in order:\n",
    "\n",
    "$H = \\frac{1}{\\sqrt{2}} \\begin{bmatrix}\n",
    "   1 & 1\\\\\n",
    "   1 & -1\n",
    "\\end{bmatrix} \\quad $  (Hadamard)\n",
    "\n",
    "Here, $|0\\rangle$ becomes $\\frac{1}{\\sqrt{2}}(|0\\rangle + |1\\rangle)$, and $|1\\rangle$ becomes $\\frac{1}{\\sqrt{2}}(|0\\rangle - |1\\rangle)$, meaning that after the transformation, both basis states are equally likely. The Hadamard gate is often used as the first step of a quantum program to leave an initial basis state. Here are some useful identities:\n",
    "\n",
    "$H^2 = X^2 = Y^2 = Z^2 = I$ \n",
    "<br>\n",
    "$HXH = Z$ \n",
    "<br>\n",
    "$HYH = -Y$ \n",
    "<br>\n",
    "$XYX = -Y$ \n",
    "<br>\n",
    "\n",
    "\n",
    "\n",
    "\n",
    "The S- and T-gates complete our list of standard 1-gates:\n",
    "\n",
    "$S = \\begin{bmatrix}\n",
    "   1 & 0\\\\\n",
    "   0 & i\n",
    "\\end{bmatrix} \\quad $ (phase)\n",
    "\n",
    "$T = \\begin{bmatrix}\n",
    "   1 & 0\\\\\n",
    "   0 & e^{i \\pi /4}\n",
    "\\end{bmatrix} \\quad $ (T or $\\pi/8$)\n",
    "\n",
    "There is not much you can do with 1-qubit gates, but they are important for what follows. We end this chapter with two points. The first is some useful identities that are easy to verify:\n",
    "\n",
    "\n",
    "$HTH = R_x(\\pi/4)$\n",
    "<br>\n",
    "\n",
    "\n",
    "and also the simplest variety of what is called a *wave function* in quantum mechanics. \n",
    "\n",
    "Measuring a qbit breaks the wave function; \n",
    " that's the *Hilbert space* where the wave functions live.\n",
    "\n"
   ],
   "metadata": {
    "collapsed": false
   }
  },
  {
   "cell_type": "markdown",
   "source": [
    "## Entangling"
   ],
   "metadata": {
    "collapsed": false
   }
  },
  {
   "cell_type": "markdown",
   "source": [
    "## Quantum Gates"
   ],
   "metadata": {
    "collapsed": false
   }
  },
  {
   "cell_type": "markdown",
   "source": [
    "### X and CX"
   ],
   "metadata": {
    "collapsed": false
   }
  },
  {
   "cell_type": "markdown",
   "source": [
    "### Hadamard"
   ],
   "metadata": {
    "collapsed": false
   }
  },
  {
   "cell_type": "markdown",
   "source": [
    "## Storing functions, the matrix $U_f$ "
   ],
   "metadata": {
    "collapsed": false
   }
  },
  {
   "cell_type": "markdown",
   "source": [
    "We are given a function $f: \\{0, 1\\}^n -> \\{0, 1\\}$.\n",
    "How can we store $f$ in a quantum computer? In classical programming we would just use a map, but there\n",
    "are no maps in quantum computing. The way to go is as follows: Let  \n",
    "\n",
    "$X =\\begin{bmatrix}\n",
    "  0 & 1 \\\\\n",
    "  1 & 0\n",
    "\\end{bmatrix}$\n",
    "\n",
    "\n",
    "Then $X^0 \\begin{bmatrix}\n",
    "   1  \\\\\n",
    "  -1\n",
    "\\end{bmatrix}\n",
    " =\n",
    "\\begin{bmatrix}\n",
    "   1  \\\\\n",
    "  -1\n",
    "\\end{bmatrix}$\n",
    "\n",
    "and $X^1\n",
    "\\begin{bmatrix}\n",
    "  1  \\\\\n",
    "  -1\n",
    "\\end{bmatrix} =\n",
    "\\begin{bmatrix}\n",
    "  -1  \\\\\n",
    "  1\n",
    "\\end{bmatrix}$\n",
    "\n",
    "\n",
    "The idea is to represent $f$ as a $(2N \\times 2N)$-Matrix $U_f$ with $N = 2^n$:\n",
    "\n",
    "$\n",
    "U_f = \\underbrace{\\begin{bmatrix}\n",
    "\\ddots  \\\\\n",
    "& X^{f(x)} \\\\\n",
    "& & \\ddots \\\\\n",
    "\\end{bmatrix}}_{2N \\times 2N} $\n",
    "\n",
    "$\n",
    "U_f : \\underbrace{\\left[\\begin{array}{c}\n",
    "\\vdots \\\\\n",
    "f(x) \\\\\n",
    "\\vdots \\\\\n",
    "\\end{array}\\right]}_{N \\times 1}\n",
    "$\n",
    "\n"
   ],
   "metadata": {
    "collapsed": false,
    "pycharm": {
     "name": "#%% md\n"
    }
   }
  },
  {
   "cell_type": "code",
   "execution_count": null,
   "outputs": [],
   "source": [],
   "metadata": {
    "collapsed": false,
    "ExecuteTime": {
     "end_time": "2024-01-01T14:34:44.640744700Z",
     "start_time": "2024-01-01T14:34:44.638242800Z"
    }
   }
  }
 ],
 "metadata": {
  "kernelspec": {
   "display_name": "Python 3",
   "language": "python",
   "name": "python3"
  },
  "language_info": {
   "codemirror_mode": {
    "name": "ipython",
    "version": 2
   },
   "file_extension": ".py",
   "mimetype": "text/x-python",
   "name": "python",
   "nbconvert_exporter": "python",
   "pygments_lexer": "ipython2",
   "version": "2.7.6"
  }
 },
 "nbformat": 4,
 "nbformat_minor": 0
}
