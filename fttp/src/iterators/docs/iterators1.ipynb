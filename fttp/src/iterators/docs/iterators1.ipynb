{
 "cells": [
  {
   "cell_type": "code",
   "execution_count": null,
   "metadata": {},
   "outputs": [],
   "source": [
    "from itertools import chain, cycle, islice\n",
    "from collections import deque\n",
    "from typing import Callable, Iterator, Tuple, List\n",
    "from collections.abc import Iterable\n",
    "from numbers import Number\n",
    "from operator import add"
   ]
  },
  {
   "cell_type": "markdown",
   "metadata": {},
   "source": [
    "# Iterator Basics\n",
    "\n",
    "### Exercise A\n",
    "1. Write a function `naturals() -> Iterator` which yields the natural numbers starting at 0. Hint: Use `yield`"
   ]
  },
  {
   "cell_type": "code",
   "execution_count": null,
   "metadata": {
    "collapsed": true,
    "pycharm": {
     "name": "#%%\n"
    }
   },
   "outputs": [],
   "source": [
    "#@title naturals { display-mode: \"form\" }\n",
    "def naturals(start: int = 0) -> Iterator[int]:\n",
    "    \"\"\"\n",
    "    :param start: an integer\n",
    "    :return: the naturals\n",
    "    \"\"\"\n",
    "    while True:\n",
    "        yield start\n",
    "        start += 1"
   ]
  },
  {
   "cell_type": "markdown",
   "metadata": {
    "pycharm": {
     "name": "#%% md\n"
    }
   },
   "source": [
    "\n",
    "2. Write a function `faculty() -> Iterator` which yields the factorials starting at 1."
   ]
  },
  {
   "cell_type": "code",
   "execution_count": null,
   "outputs": [],
   "source": [
    "def faculty() -> Iterator[int]:\n",
    "    \"\"\"\n",
    "    :return: un iterator yielding the factorials\n",
    "    \"\"\"\n",
    "    factor = 1\n",
    "    current = 1\n",
    "    while True:\n",
    "        yield current\n",
    "        current *= factor\n",
    "        factor += 1"
   ],
   "metadata": {
    "collapsed": false,
    "pycharm": {
     "name": "#%%\n"
    }
   }
  },
  {
   "cell_type": "markdown",
   "source": [
    "3. Write a function `take(t: Iterator, n: int) -> list` which returns a list of the first n elements of t.\n",
    "Hint: Use `islice()`"
   ],
   "metadata": {
    "collapsed": false
   }
  },
  {
   "cell_type": "code",
   "execution_count": null,
   "outputs": [],
   "source": [
    "def take(t: Iterator, n: int) -> List[int]:\n",
    "    \"\"\"\n",
    "    :param t: an iterator\n",
    "    :param n: number of elements requested\n",
    "    :return: list of first k elements with k = min(n, len(t))\n",
    "    This avoids fiddling with StopIteration\n",
    "    \"\"\"\n",
    "    return list(islice(t, n))"
   ],
   "metadata": {
    "collapsed": false,
    "pycharm": {
     "name": "#%%\n"
    }
   }
  },
  {
   "cell_type": "markdown",
   "source": [
    "4. Write a function `exp_taylor() -> Iterator` which returns the Taylor series of the exponential function.\n",
    "Hint: use `faculty()`"
   ],
   "metadata": {
    "collapsed": false
   }
  },
  {
   "cell_type": "code",
   "execution_count": null,
   "outputs": [],
   "source": [
    "def exp_taylor() -> Iterator[float]:\n",
    "    \"\"\"\n",
    "    :return: iterator yielding the coefficients of the Taylor series of\n",
    "    exp_taylor\n",
    "    \"\"\"\n",
    "    return (1.0 / k for k in faculty())"
   ],
   "metadata": {
    "collapsed": false,
    "pycharm": {
     "name": "#%%\n"
    }
   }
  },
  {
   "cell_type": "markdown",
   "source": [
    "5. Write a function `sin_taylor() -> Iterator` which returns the Taylor series of sine. Hint: use `zip()` and `cycle()`"
   ],
   "metadata": {
    "collapsed": false,
    "pycharm": {
     "name": "#%% md\n"
    }
   }
  },
  {
   "cell_type": "code",
   "execution_count": null,
   "outputs": [],
   "source": [
    "def sin_taylor() -> Iterator[float]:\n",
    "    \"\"\"\n",
    "    :return: iterator yielding the coefficients of the Taylor series of sin\n",
    "    \"\"\"\n",
    "    return (a * b for a, b in zip(cycle((0, 1, 0, -1)), exp_taylor()))"
   ],
   "metadata": {
    "collapsed": false,
    "pycharm": {
     "name": "#%%\n"
    }
   }
  },
  {
   "cell_type": "markdown",
   "source": [
    "6. Write a function `cos_taylor() -> Iterator` which returns the Taylor series of cosine. Hint: use `zip()` and `cycle()`"
   ],
   "metadata": {
    "collapsed": false,
    "pycharm": {
     "name": "#%% md\n"
    }
   }
  },
  {
   "cell_type": "code",
   "execution_count": null,
   "outputs": [],
   "source": [
    "def cos_taylor() -> Iterator[float]:\n",
    "    \"\"\"\n",
    "    :return: iterator yielding the coefficients of the Taylor series of sin\n",
    "    \"\"\"\n",
    "    return (a * b for a, b in zip(cycle((1, 0, -1, 0)), exp_taylor()))"
   ],
   "metadata": {
    "collapsed": false,
    "pycharm": {
     "name": "#%%\n"
    }
   }
  },
  {
   "cell_type": "markdown",
   "source": [
    "### Exercise B\n",
    "1. Write a recursive version of generator `naturals()`. Hint: Use `yield from`.\n",
    "What about the call stack?"
   ],
   "metadata": {
    "collapsed": false,
    "pycharm": {
     "name": "#%% md\n"
    }
   }
  },
  {
   "cell_type": "code",
   "execution_count": null,
   "outputs": [],
   "source": [
    "def naturals1(start: int = 0) -> Iterator[int]:\n",
    "    \"\"\"\n",
    "    :param start: an integer\n",
    "    :return: the naturals\n",
    "    \"\"\"\n",
    "    yield start\n",
    "    yield from naturals(start + 1)"
   ],
   "metadata": {
    "collapsed": false,
    "pycharm": {
     "name": "#%%\n"
    }
   }
  },
  {
   "cell_type": "markdown",
   "source": [
    "2. Write a function `fun(f: Callable, *args: any) -> Iterator`. Here, `f` takes k arguments, e.g. k = 2, and k is the number\n",
    "of arguments given. `fun` returns  `arg0, arg1, f(arg0, arg1), f(arg1, f(arg0, arg1)), ..`"
   ],
   "metadata": {
    "collapsed": false
   }
  },
  {
   "cell_type": "code",
   "execution_count": null,
   "outputs": [],
   "source": [
    "def fun(f: Callable, *args: any) -> Iterator[any]:\n",
    "    \"\"\"\n",
    "    :param f: a function taking k arguments, e.g. k = 2\n",
    "    :param args: k arguments accepted by f\n",
    "    :return: n iterator yielding arg0, arg1, f(arg0, arg1), f(arg1, f(arg0, arg1)), ..\n",
    "    \"\"\"\n",
    "    for arg in args:\n",
    "        yield arg\n",
    "\n",
    "    while True:\n",
    "        args = args[1:] + (f(*args),)\n",
    "        yield args[-1]"
   ],
   "metadata": {
    "collapsed": false,
    "pycharm": {
     "name": "#%%\n"
    }
   }
  },
  {
   "cell_type": "markdown",
   "source": [
    "3. Write a function `ari(increment: Number, start: Number) -> Iterator` which returns the arithmetic series starting at `start`with\n",
    "the given `increment`. Hint: Use `fun()`"
   ],
   "metadata": {
    "collapsed": false
   }
  },
  {
   "cell_type": "code",
   "execution_count": null,
   "outputs": [],
   "source": [
    "def ari(increment: Number , start: Number = 0) -> Iterator[Number]:\n",
    "    \"\"\"\n",
    "    :param increment: any number\n",
    "    :param start: any number, starting value\n",
    "    :return: the arithmetic series staring at start\n",
    "    \"\"\"\n",
    "    return fun(lambda x: x + increment, start)"
   ],
   "metadata": {
    "collapsed": false,
    "pycharm": {
     "name": "#%%\n"
    }
   }
  },
  {
   "cell_type": "markdown",
   "source": [
    "4. Write a function `geo(factor: Number, start: Number) -> Iterator` which returns the geometric series starting at `start`with\n",
    "the given `factor`. Hint: Use `fun()`"
   ],
   "metadata": {
    "collapsed": false
   }
  },
  {
   "cell_type": "code",
   "execution_count": null,
   "outputs": [],
   "source": [
    "def geo(factor: Number, start: Number = 1) -> Iterator[Number]:\n",
    "    \"\"\"\n",
    "    :param factor: any number\n",
    "    :param start: any number, starting value\n",
    "    :return: the geometric series staring at start\n",
    "    \"\"\"\n",
    "    return fun(lambda x: x * factor, start)"
   ],
   "metadata": {
    "collapsed": false,
    "pycharm": {
     "name": "#%%\n"
    }
   }
  },
  {
   "cell_type": "markdown",
   "source": [
    "5. Write a function `fibo()` which returns the Fibonacci numbers.\n",
    "Hint: Use `fun()`"
   ],
   "metadata": {
    "collapsed": false
   }
  },
  {
   "cell_type": "code",
   "execution_count": null,
   "outputs": [],
   "source": [
    "def fibo() -> Iterator[int]:\n",
    "    \"\"\"\n",
    "    :return: iterator yielding the fibonacci series\n",
    "    \"\"\"\n",
    "    return fun(add, 1, 1)"
   ],
   "metadata": {
    "collapsed": false,
    "pycharm": {
     "name": "#%%\n"
    }
   }
  },
  {
   "cell_type": "markdown",
   "source": [
    "6. Write a class `Fibo()` which can be used as an Iterable and returns the Fibonacci numbers.\n",
    "Hint: Overload `__iter__(self)`"
   ],
   "metadata": {
    "collapsed": false
   }
  },
  {
   "cell_type": "code",
   "execution_count": null,
   "outputs": [],
   "source": [
    "class Fibo(object):\n",
    "    def __iter__(self):\n",
    "        return fibo()"
   ],
   "metadata": {
    "collapsed": false,
    "pycharm": {
     "name": "#%%\n"
    }
   }
  },
  {
   "cell_type": "markdown",
   "source": [
    "7. Write a function `alternate() -> Iterator` which alternates between the arithmetic and geometric series. It goes:\n",
    "`ari0, geo0, ar1, geo1, ...`"
   ],
   "metadata": {
    "collapsed": false
   }
  },
  {
   "cell_type": "code",
   "execution_count": null,
   "outputs": [],
   "source": [
    "def alternate() -> Iterator[int]:\n",
    "    a = ari(1)\n",
    "    g = geo(2)\n",
    "    while True:\n",
    "        yield next(a)\n",
    "        yield next(g)"
   ],
   "metadata": {
    "collapsed": false,
    "pycharm": {
     "name": "#%%\n"
    }
   }
  },
  {
   "cell_type": "markdown",
   "source": [
    "8. Write a function `hamming(*ps: int) -> Iterator` which produces all multiples of `p0`, `p1`, `p2`, ...\n",
    "So, hamming(2, 3, 5) yields 1, 2, 3, 4, 5, 6, 8, 9, 10, 12, ...\n",
    "Hint: This solution follows Dijkstra: \"An exercise attributed to R.W. Hamming\":\n",
    "Let `q` be the sequence of multiples produced so far.\n",
    "Then append `min{p*x | x in q, p in ps, p*x > max(q)}` to `q`.\n",
    "The next number to be produced is `min(q)`."
   ],
   "metadata": {
    "collapsed": false
   }
  },
  {
   "cell_type": "code",
   "execution_count": null,
   "outputs": [],
   "source": [
    "def hamming(*ps: int) -> Iterator[int]:\n",
    "    \"\"\"\n",
    "    :param ps: ps = (p0, p1, p2, ..) contains one or more integers, generally primes\n",
    "    :return: an iterator yielding all multiples of p0, p1, p2, ..\n",
    "\n",
    "    This solution follows Dijkstra: \"An exercise attributed to R.W. Hamming\":\n",
    "    Let q be the sequence of multiples produced so far.\n",
    "    Then append min{p*x | x in q, p in ps, p*x > max(q)} to q.\n",
    "    The next number to be produced is min(q)\n",
    "    \"\"\"\n",
    "\n",
    "    q = [1]  # q contains all numbers produced so far\n",
    "    while True:\n",
    "        yield q[-1]\n",
    "        mq = max(q)\n",
    "        q.append(min([p * x for p in ps for x in q if p * x > mq]))\n"
   ],
   "metadata": {
    "collapsed": false,
    "pycharm": {
     "name": "#%%\n"
    }
   }
  },
  {
   "cell_type": "markdown",
   "source": [
    "\n",
    "### Exercise C\n",
    "1. Write a function `skip_duplicates(t: Iterable) -> Iterator` which skips successive duplicates of `t`"
   ],
   "metadata": {
    "collapsed": false
   }
  },
  {
   "cell_type": "code",
   "execution_count": null,
   "outputs": [],
   "source": [
    "def skip_duplicates(t: Iterable) -> Iterator:\n",
    "    \"\"\"\"\n",
    "    :param t: an iterator\n",
    "    :return: an iterator skipping successive duplicates\n",
    "    \"\"\"\n",
    "    t = iter(t)\n",
    "    last = next(t)\n",
    "    yield last\n",
    "\n",
    "    while True:\n",
    "        x = next(t)\n",
    "        if x != last:\n",
    "            last = x\n",
    "            yield last"
   ],
   "metadata": {
    "collapsed": false,
    "pycharm": {
     "name": "#%%\n"
    }
   }
  },
  {
   "cell_type": "markdown",
   "source": [
    "2. Write a function `merge(*ts: Iterable) -> Iterator` which merges n non-descending iterators into one.\n",
    "Hint: Keep a dictionary `heads` with key = given iterator t and value = last element read (i.e. head of t)"
   ],
   "metadata": {
    "collapsed": false
   }
  },
  {
   "cell_type": "code",
   "execution_count": null,
   "outputs": [],
   "source": [
    "def merge(*ts: Iterable) -> Iterator:\n",
    "    \"\"\"\n",
    "    :param ts: a list of n non-descending iterables, n >= 0\n",
    "    :return: merge of n iterables into one\n",
    "    This is a weak merge:\n",
    "    It doesn't stop before the longest iterator is exhausted\n",
    "    \"\"\"\n",
    "    ts = [iter(t) for t in ts]\n",
    "    heads = {}.fromkeys(ts)  # dictionary of last read entries, initially all None\n",
    "\n",
    "    while True:\n",
    "        # get first element of each iterable if there is one\n",
    "        for t in ts:\n",
    "            if heads[t] is None:\n",
    "                h = take(t, 1)  # try to read next element\n",
    "                heads[t] = h[0] if len(h) > 0 else None\n",
    "\n",
    "        # get non-exhausted entries\n",
    "        active_ts = [t for t in ts if heads[t] is not None]\n",
    "        if not active_ts:  # no active entry left\n",
    "            return\n",
    "        else:\n",
    "            # get non-exhausted entry with minimum value\n",
    "            min_t = min(active_ts, key=lambda t: heads[t])\n",
    "            yield heads[min_t]\n",
    "            heads[min_t] = None  # to be updated on next loop\n",
    "\n"
   ],
   "metadata": {
    "collapsed": false,
    "pycharm": {
     "name": "#%%\n"
    }
   }
  },
  {
   "cell_type": "markdown",
   "source": [
    "3. Write a recursive function `merge(s, t: Iterable) -> Iterator` which merges two non-descending iterators into one.\n",
    "Hint: The solution follows exactly the list-based solution. Use `chain()`."
   ],
   "metadata": {
    "collapsed": false
   }
  },
  {
   "cell_type": "code",
   "execution_count": null,
   "outputs": [],
   "source": [
    "\n",
    "def merge1(s, t: Iterable) -> Iterator:\n",
    "    \"\"\"\n",
    "    :param s: a non-descending iterable,\n",
    "    :param t: a non-descending iterable,\n",
    "    :return: merge of s and t into one\n",
    "    This is a weak merge:\n",
    "    It doesn't stop before the longest iterator is exhausted\n",
    "    Elegant but inefficient (max recursion depth)\n",
    "    \"\"\"\n",
    "    s, t = iter(s), iter(t)  # get iterator from iterable\n",
    "    head_s, head_t = take(s, 1), take(t, 1)  # take first element\n",
    "\n",
    "    if not head_s:\n",
    "        yield from chain(head_t, t)  # restore first element of t\n",
    "    elif not head_t:\n",
    "        yield from chain(head_s, s)  # restore first element of s\n",
    "    elif head_s[0] <= head_t[0]:\n",
    "        yield head_s[0]\n",
    "        yield from merge1(s, chain(head_t, t))\n",
    "    else:\n",
    "        yield head_t[0]\n",
    "        yield from merge1(chain(head_s, s), t)\n"
   ],
   "metadata": {
    "collapsed": false,
    "pycharm": {
     "name": "#%%\n"
    }
   }
  },
  {
   "cell_type": "markdown",
   "source": [
    "4. Write a function `tee(t: Iterable, n: int) -> Tuple[Iterator]` which forks an iterable into n copies\n",
    "to be iterated on independently. Hint: Keep a list of n deques, one for each fork. This is the buffer.\n",
    "Each iterator is fed from its deque; you have to fill the deques if they are exhausted.\n",
    "This is `itertools.tee`."
   ],
   "metadata": {
    "collapsed": false
   }
  },
  {
   "cell_type": "code",
   "execution_count": null,
   "outputs": [],
   "source": [
    "def tee1(t: Iterable, n: int = 2) -> Tuple[Iterator]:\n",
    "    \"\"\"\n",
    "    :param t: an iterable\n",
    "    :param n: number of forks\n",
    "    :return: n copies of t, to be iterated on independently\n",
    "    This is a remake of itertools.tee\n",
    "    \"\"\"\n",
    "    t = iter(t)\n",
    "    buffer = [deque() for _ in range(n)]\n",
    "\n",
    "    def gen(q: deque) -> Iterator:\n",
    "        while True:\n",
    "            if not q:  # when the local deque is empty\n",
    "                x = next(t)  # fetch a new value and\n",
    "                for d in buffer:  # load it into buffer\n",
    "                    d.append(x)\n",
    "            yield q.popleft()\n",
    "\n",
    "    return tuple(gen(d) for d in buffer)\n"
   ],
   "metadata": {
    "collapsed": false,
    "pycharm": {
     "name": "#%%\n"
    }
   }
  },
  {
   "cell_type": "markdown",
   "source": [
    "\n",
    "## Iterators and Iterables\n",
    "\n",
    "All Python collections are iterables, that is, you get an iterator by\n",
    "\n",
    "        xs = [1, 2, 3]\n",
    "        t = iter(xs)\n",
    "An iterator is a recipe for computing the next element. Its main operation is\n",
    "\n",
    "       next(t)\n",
    "which applies the recipe and returns the next element. This works fine as long as there are elements left;\n",
    "the fourth call in the example above would raise a `StopIteration`. Each for-loop implicitly\n",
    "applies `iter()` to what follows the in-clause:\n",
    "\n",
    "        for x in xs:\n",
    "            for y in xs:\n",
    "                print(x, y)\n",
    "\n",
    "Here, Python creates two iterators on `xs`, being iterated on independently; the for-loop gracefully handles\n",
    "`StopIteration`.\n",
    "\n",
    "\n",
    "What is important:\n",
    "\n",
    "* There can be any number of iterators on a given collection\n",
    "* Iterators are read-once; each `next` winds the iterator one notch down. There is no winding up.\n",
    "Iterators can however be chained, like this:\n",
    "\n",
    "        s = chain([x], t)\n",
    "creates a new iterator with `x` in front of `t`.\n",
    "\n",
    "* Iterators are lazy as opposed to lists which are eager. *Lazy* means, that elements are computed\n",
    "not before they are need. This allows to manage infinite series.\n",
    "\n",
    "* Iterators are hard to debug. The `take`-function can be helpful. Good idea: Write a list-based version first and\n",
    "convert to iterators later.\n",
    "\n",
    "\n",
    "The class `Iterator` in `Collections.abc` is an abstract base\n",
    "class defining a single method `__next__()`. Iterators are ubiquitous but often invisible. They are created by\n",
    " `Iterables`, another abstract base class in `Collections.abc`.\n",
    "\n",
    "\n",
    "An iterable is just an object which the iter-function accepts.\n",
    "There are three ways to get one:\n",
    "\n",
    "1. applying `iter()`to a collection\n",
    "2. writing a generator\n",
    "3. overloading `__iter__`\n",
    "\n",
    "We have seen the first way, let's turn to the second.\n",
    "\n",
    "#### Generators\n",
    "A generator is a function which\n",
    "contains at least one `yield`-statement, such as this one:\n",
    "\n",
    "    def naturals() -> Iterator\n",
    "        current = 0\n",
    "        while True\n",
    "            yield current\n",
    "            current += 1\n",
    "\n",
    "This generator would be used as follows:\n",
    "\n",
    "    nat = naturals()\n",
    "    a = next(nat)\n",
    "    b = next(nat)\n",
    "\n",
    "\n",
    "Here is how generators work: A call of `naturals()` produces a generator objet, `nat` in this case.\n",
    "The code inside the function is executed until and excluding the first `yield`.\n",
    "In the example above, `current` is set to 0, and generator is waiting for the first call of `next(nat)`.\n",
    "On that call, the generator yields what it is supposed to and proceeds until and excluding the next `yield`:\n",
    "`current`gets incremented, the while-loop restarts and stops. This can go on forever, but of course,\n",
    "it normally doesn't. The good news is that generator gracefully handle infinity: `naturals()` delivers\n",
    "an arbitrarily many natural numbers; there is to need to define an upper bound such as, say, 1e20.\n",
    "It is up to the caller to call `next(nat)` as often as desired.\n",
    "\n",
    "#### Overloading `__iter__`\n",
    "# todo\n",
    "\n",
    "#### Iterators and Iterables\n",
    "\n",
    "Iterables produce Iterators via `ìter()` such as all Collections.\n",
    "Iterator yield the next element via `next()`. By convention, all Iterators\n",
    "are also Iterables; the standard implementation being to return self.\n",
    "Some examples:\n",
    "\n",
    "* `(0, 1, 2, 3)` is a tuple, no iterator\n",
    "* `range(4)` is a tuple, no iterator\n",
    "* `naturals()` is an iterator\n",
    "* `(1 / k for k in naturals())` is an iterator\n",
    "\n",
    "\n"
   ],
   "metadata": {
    "collapsed": false,
    "pycharm": {
     "name": "#%% md\n"
    }
   }
  }
 ],
 "metadata": {
  "kernelspec": {
   "display_name": "Python 3",
   "language": "python",
   "name": "python3"
  },
  "language_info": {
   "codemirror_mode": {
    "name": "ipython",
    "version": 3
   },
   "file_extension": ".py",
   "mimetype": "text/x-python",
   "name": "python",
   "nbconvert_exporter": "python",
   "pygments_lexer": "ipython3",
   "version": "3.7.7"
  }
 },
 "nbformat": 4,
 "nbformat_minor": 1
}