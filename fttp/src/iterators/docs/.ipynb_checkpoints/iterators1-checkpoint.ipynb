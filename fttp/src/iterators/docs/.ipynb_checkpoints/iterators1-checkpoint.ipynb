{
 "cells": [
  {
   "cell_type": "code",
   "execution_count": null,
   "metadata": {
    "collapsed": true
   },
   "outputs": [],
   "source": [
    "# hide\n",
    "from collections import deque\n",
    "from itertools import chain, cycle, islice\n",
    "from operator import add\n",
    "from typing import Iterator, Callable\n",
    "from numbers import Number\n",
    "from collections.abc import Iterable"
   ]
  },
  {
   "cell_type": "markdown",
   "metadata": {},
   "source": [
    "# Iterator Basics\n",
    "\n",
    "\n",
    "### Exercise A\n",
    "1. Write a function `naturals() -> Iterator` which yields the natural numbers starting at 0. Hint: Use `yield`"
   ]
  },
  {
   "cell_type": "code",
   "execution_count": null,
   "metadata": {
    "pycharm": {
     "name": "#%%\n"
    }
   },
   "outputs": [],
   "source": [
    "def naturals(start: int = 0) -> Iterator:\n",
    "    \"\"\"\n",
    "    :param start: an integer\n",
    "    :return: the naturals\n",
    "    \"\"\"\n",
    "    while True:\n",
    "        yield start\n",
    "        start += 1"
   ]
  },
  {
   "cell_type": "markdown",
   "metadata": {
    "pycharm": {
     "name": "#%% md\n"
    }
   },
   "source": [
    "2. Write a function `faculty() -> Iterator` which yields the factorials starting at 1.\n",
    "3. Write a function `take(t: Iterator, n: int) -> list` which returns a list of the first n elements of t.\n",
    "Hint: Use `islice()`\n",
    "4. Write a function `exp_taylor() -> Iterator` which returns the Taylor series of the exponential function.\n",
    "Hint: use `faculty()`\n",
    "5. Write a function `sin_taylor() -> Iterator` which returns the Taylor series of sine. Hint: use `zip()` and `cycle()`\n",
    "6. Write a function `cos_taylor() -> Iterator` which returns the Taylor series of cosine. Hint: use `zip()` and `cycle()`\n",
    "\n",
    "\n",
    "### Exercise B\n",
    "1. Write a recursive version of generator `naturals()`. Hint: Use `yield from`\n",
    "2. Write a function `fun(f: Callable, *args: any) -> Iterator`. Here, `f` takes k arguments, e.g. k = 2, and k is the number\n",
    "of arguments given. `fun` returns  `arg0, arg1, f(arg0, arg1), f(arg1, f(arg0, arg1)), ..`\n",
    "3. Write a function `ari(increment: Number, start: Number) -> Iterator` which returns the arithmetic series starting at `start`with\n",
    "the given `increment`. Hint: Use `fun()`\n",
    "4. Write a function `geo(factor: Number, start: Number) -> Iterator` which returns the geometric series starting at `start`with\n",
    "the given `factor`. Hint: Use `fun()`\n",
    "5. Write a class `Fibo()` which can be used as an Iterable and returns the Fibonacci numbers.\n",
    "Hint: Overload `__iter__(self)`\n",
    "6. Write a function `alternate() -> Iterator` which alternates between the arithmetic and geometric series. It goes:\n",
    "`ari0, geo0, ar1, geo1, ...`\n",
    "\n",
    "\n",
    "### Exercise C\n",
    "1. Write a function `skipDuplicates(t: Iterator) -> Iterator` which skips successive duplicates of `t`\n",
    "2. Write a function `merge(*ts: Iterator) -> Iterator` which merges n non-descending iterators into one.\n",
    "Hint: Keep a dictionary `heads` with key = given iterator t and value = last element read (i.e. head of t)\n",
    "3. Write a recursive function `merge(s, t: Iterator) -> Iterator` which merges two non-descending iterators into one.\n",
    "Hint: The solution follows exactly the list-based solution. Use `chain()`.\n",
    "4. Write a function `tee(t: Iterator, n: int) -> list[Iterator]` which forks an iterator into n copies\n",
    "to be iterated on independently. Hint: Keep a list of n deques, one for each fork. This is the buffer.\n",
    "Each iterator is fed from its deque; you have fill the deques if they are exhausted.\n",
    "This is `itertools.tee`.\n",
    "\n",
    "\n",
    "## Background\n",
    "An iterator is a recipe for computing the next element. It's only operation is\n",
    "\n",
    "    next(t)\n",
    "which applies the recipe and returns the next element. All Python collections\n",
    "are iterables, that is, you get an iterator by\n",
    "\n",
    "        xs = [1, 2, 3]\n",
    "        t = iter(xs)\n",
    "An iterable is just an object which the iter-function accepts.\n",
    "An iterator on a collection can be thought of as pointing to the next\n",
    "element to be presented. Successive calls\n",
    "\n",
    "        x = next(t)\n",
    "return the elements of the underlying collection. This works fine as long as there are elements left;\n",
    "the fourth call in the example above would raise a *StopIteration*. Each *for-loop* implicitly\n",
    "applies *iter* to what follows the in-clause:\n",
    "\n",
    "        for x in xs:\n",
    "            for y in xs:\n",
    "                print(x, y)\n",
    "\n",
    "Here, Python creates two iterators on `xs`, being iterated on independently; the for-loop gracefully handles\n",
    "`StopIteration`. What is important:\n",
    "\n",
    "* There can be any number of iterators on a given collection\n",
    "* Iterators are read-once; each `next` winds the iterator one notch down. There is no winding up.\n",
    "Iterators can however be chained, for instance\n",
    "\n",
    "        s = chain([x], t)\n",
    "creates a new iterator with `x` in front of `t`.\n",
    "\n",
    "* Iterators are lazy as opposed to lists which are eager. *Lazy* means, that elements are computed\n",
    "not begore they are need. This allows to e.g. to manage infinite series.\n",
    "\n",
    "\n",
    "\n",
    "\n"
   ]
  },
  {
   "cell_type": "code",
   "execution_count": 1,
   "metadata": {
    "pycharm": {
     "name": "#%%\n"
    }
   },
   "outputs": [],
   "source": [
    "xs = [1, 2, 3]\n",
    "t = iter(xs)\n",
    "x = next(t)"
   ]
  },
  {
   "cell_type": "markdown",
   "metadata": {},
   "source": []
  },
  {
   "cell_type": "markdown",
   "metadata": {},
   "source": []
  }
 ],
 "metadata": {
  "kernelspec": {
   "display_name": "Python 3",
   "language": "python",
   "name": "python3"
  },
  "language_info": {
   "codemirror_mode": {
    "name": "ipython",
    "version": 3
   },
   "file_extension": ".py",
   "mimetype": "text/x-python",
   "name": "python",
   "nbconvert_exporter": "python",
   "pygments_lexer": "ipython3",
   "version": "3.7.7"
  }
 },
 "nbformat": 4,
 "nbformat_minor": 1
}
