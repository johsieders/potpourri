{
 "cells": [
  {
   "cell_type": "code",
   "execution_count": null,
   "metadata": {},
   "outputs": [],
   "source": [
    "from typing import Callable, Collection, Iterator, List, Sequence, Set"
   ]
  },
  {
   "cell_type": "markdown",
   "metadata": {},
   "source": [
    "## Conjoin\n",
    "\n",
    "Conjoin is about nested loops.\n",
    "\n",
    "### Exercise A\n",
    "\n",
    "1. Write a function `romans() -> Iterator[str]` which yields the roman number from 1 to 4999\n",
    "in ascending order."
   ]
  },
  {
   "cell_type": "code",
   "execution_count": null,
   "metadata": {
    "collapsed": true,
    "pycharm": {
     "name": "#%%\n"
    }
   },
   "outputs": [],
   "source": [
    "digits0 = ('', 'M', 'MM', 'MMM', 'MMMM')\n",
    "digits1 = ('', 'C', 'CC', 'CCC', 'CD', 'D', 'DC', 'DCC', 'DCCC', 'CM')\n",
    "digits2 = ('', 'X', 'XX', 'XXX', 'XL', 'L', 'LX', 'LXX', 'LXXX', 'XC')\n",
    "digits3 = ('', 'I', 'II', 'III', 'IV', 'V', 'VI', 'VII', 'VIII', 'IX')\n",
    "\n",
    "def romans1() -> Iterator:\n",
    "    \"\"\"\n",
    "    :return: romans numbers from 1 to 4999\n",
    "    \"\"\"\n",
    "    result = [''] * 4\n",
    "    for result[0] in digits0:\n",
    "        for result[1] in digits1:\n",
    "            for result[2] in digits2:\n",
    "                for result[3] in digits3:\n",
    "                    yield ''.join(result)"
   ]
  },
  {
   "cell_type": "markdown",
   "metadata": {
    "pycharm": {
     "name": "#%% md\n"
    }
   },
   "source": [
    "\n",
    "2. Write a function `conjoin(*ts: Iterator) -> Sequence`"
   ]
  },
  {
   "cell_type": "code",
   "execution_count": null,
   "outputs": [],
   "source": [
    "def conjoin2(*ts: Iterator) -> Sequence:\n",
    "    \"\"\"\n",
    "    :param gs: list of Iterators\n",
    "    :return: their cartesian product as list\n",
    "    \"\"\"\n",
    "    values = [None] * len(ts)\n",
    "    result = []\n",
    "\n",
    "    def loop(i):\n",
    "        if i >= len(ts):\n",
    "            result.append(list(values))\n",
    "        else:\n",
    "            for values[i] in ts[i]:\n",
    "                loop(i + 1)\n",
    "\n",
    "    loop(0)\n",
    "    return result"
   ],
   "metadata": {
    "collapsed": false,
    "pycharm": {
     "name": "#%%\n"
    }
   }
  },
  {
   "cell_type": "markdown",
   "source": [
    "3. Write a function `conjoin(*gs: Callable) -> Sequence`"
   ],
   "metadata": {
    "collapsed": false
   }
  },
  {
   "cell_type": "code",
   "execution_count": null,
   "outputs": [],
   "source": [
    "def conjoin1(*gs: Callable) -> Sequence:\n",
    "    \"\"\"\n",
    "    :param gs: list of Callables() -> Iterable\n",
    "    :return: their cartesian product as list\n",
    "    \"\"\"\n",
    "    values = [None] * len(gs)\n",
    "    result = []\n",
    "\n",
    "    def loop(i):\n",
    "        if i >= len(gs):\n",
    "            result.append(list(values))\n",
    "        else:\n",
    "            for values[i] in gs[i]():\n",
    "                loop(i + 1)\n",
    "\n",
    "    loop(0)\n",
    "    return result"
   ],
   "metadata": {
    "collapsed": false,
    "pycharm": {
     "name": "#%%\n"
    }
   }
  },
  {
   "cell_type": "markdown",
   "source": [
    "4. Write a function `conjoin(*gs: Callable) -> Iterator`"
   ],
   "metadata": {
    "collapsed": false
   }
  },
  {
   "cell_type": "code",
   "execution_count": null,
   "outputs": [],
   "source": [
    "def conjoin(*gs: Callable) -> Iterator:\n",
    "    \"\"\"\n",
    "    :param gs: list of Callables() -> Iterable\n",
    "    :return: their cartesian product as iterator\n",
    "    \"\"\"\n",
    "    values = [None] * len(gs)\n",
    "\n",
    "    def loop(i):\n",
    "        if i >= len(gs):\n",
    "            yield list(values)\n",
    "        else:\n",
    "            for values[i] in gs[i]():\n",
    "                yield from loop(i + 1)\n",
    "\n",
    "    yield from loop(0)"
   ],
   "metadata": {
    "collapsed": false,
    "pycharm": {
     "name": "#%%\n"
    }
   }
  },
  {
   "cell_type": "markdown",
   "source": [
    "5. Write a function `romans() -> Iterator[str]` which yields the roman number from 1 to 4999\n",
    "in ascending order."
   ],
   "metadata": {
    "collapsed": false,
    "pycharm": {
     "name": "#%% md\n"
    }
   }
  },
  {
   "cell_type": "code",
   "execution_count": null,
   "outputs": [],
   "source": [
    "d0 = lambda: digits0\n",
    "d1 = lambda: digits1\n",
    "d2 = lambda: digits2\n",
    "d3 = lambda: digits3\n",
    "\n",
    "def romans() -> Iterator:\n",
    "    \"\"\"\n",
    "    :return: romans numbers from 1 to 4999\n",
    "    \"\"\"\n",
    "    result = conjoin(d0, d1, d2, d3)\n",
    "    return (''.join(t) for t in result)"
   ],
   "metadata": {
    "collapsed": false,
    "pycharm": {
     "name": "#%%\n"
    }
   }
  },
  {
   "cell_type": "markdown",
   "source": [
    "### Permutations\n",
    "\n",
    "1. Write a function `permutations(xs: Collection) -> Iterator` which\n",
    "yields all permutations of `xs`. Don't try this for collections containing\n",
    "more than 12 elements."
   ],
   "metadata": {
    "collapsed": false
   }
  },
  {
   "cell_type": "code",
   "execution_count": null,
   "outputs": [],
   "source": [
    "def permutations(xs: Collection) -> Iterator:\n",
    "    \"\"\"\n",
    "    :param xs: a collection\n",
    "    :return: iterator of all permutations of xs\n",
    "    \"\"\"\n",
    "    steps = []\n",
    "    visited = len(xs) * [None]\n",
    "\n",
    "    for i in range(len(xs)):\n",
    "        def step(i: int = i) -> Iterator:\n",
    "            \"\"\"\n",
    "            :param i: level of step\n",
    "            :return: all objects not previously visited\n",
    "            \"\"\"\n",
    "            for x in xs:\n",
    "                if x not in visited[:i]:\n",
    "                    visited[i] = x\n",
    "                    yield x\n",
    "\n",
    "        steps.append(step)\n",
    "\n",
    "    yield from conjoin(*steps)"
   ],
   "metadata": {
    "collapsed": false,
    "pycharm": {
     "name": "#%%\n"
    }
   }
  },
  {
   "cell_type": "markdown",
   "source": [
    "### Queens\n",
    "\n",
    "2. Write a function `free_fields(occupied_fields: Sequence, n: int) -> Set` which\n",
    "returns all save positions on row `k` if `len(occupied_fields) = k - 1`"
   ],
   "metadata": {
    "collapsed": false
   }
  },
  {
   "cell_type": "code",
   "execution_count": null,
   "outputs": [],
   "source": [
    "def free_fields(occupied_fields: Sequence, n: int = 8) -> Set[int]:\n",
    "    \"\"\"\n",
    "    :param occupied_fields: occupied_places[i] = field of queen on row i\n",
    "    :param n: size of board\n",
    "    :return: set of save fields in line k = len(state)\n",
    "    Example: occupied_fields = [3, 1] means:\n",
    "    In row 0 there is a queen on column 3\n",
    "    In row 1 there is a queen on column 1\n",
    "    This would return (4, 6, 7) on an 8x8 board\n",
    "    \"\"\"\n",
    "    result = set(range(n))\n",
    "    k = len(occupied_fields)\n",
    "    for i in range(k):\n",
    "        result.discard(occupied_fields[i] - k + i)\n",
    "        result.discard(occupied_fields[i])\n",
    "        result.discard(occupied_fields[i] + k - i)\n",
    "    return result"
   ],
   "metadata": {
    "collapsed": false,
    "pycharm": {
     "name": "#%%\n"
    }
   }
  },
  {
   "cell_type": "markdown",
   "source": [
    "3. Write a function `queens(n: int) -> Iterator` which\n",
    "yields all solutions of the queens problem on a nxn board."
   ],
   "metadata": {
    "collapsed": false
   }
  },
  {
   "cell_type": "code",
   "execution_count": null,
   "outputs": [],
   "source": [
    "def queens(n: int) -> Iterator[List[int]]:\n",
    "    \"\"\"\n",
    "    :param n: size of board, n >= 0\n",
    "    :return: Iterator over all solutions of the queens problem\n",
    "    The for-loop produces an array of generators, rows\n",
    "    occupied_fields is global for all of them.\n",
    "    rows[i]() yields all free fields in row i depending on\n",
    "    occupied fields in rows 0 to i-1\n",
    "\n",
    "    \"\"\"\n",
    "    rows = []\n",
    "    occupied_fields = n * [None]\n",
    "\n",
    "    for i in range(n):\n",
    "        def row(i: int = i) -> Iterator:\n",
    "            \"\"\"\n",
    "            :param i: row to be iterated on\n",
    "            :return: list of free fields on row i\n",
    "            \"\"\"\n",
    "            for x in free_fields(occupied_fields[:i], n):\n",
    "                occupied_fields[i] = x\n",
    "                yield x\n",
    "\n",
    "        rows.append(row)\n",
    "\n",
    "    yield from conjoin(*rows)"
   ],
   "metadata": {
    "collapsed": false,
    "pycharm": {
     "name": "#%%\n"
    }
   }
  }
 ],
 "metadata": {
  "kernelspec": {
   "display_name": "Python 3",
   "language": "python",
   "name": "python3"
  },
  "language_info": {
   "codemirror_mode": {
    "name": "ipython",
    "version": 3
   },
   "file_extension": ".py",
   "mimetype": "text/x-python",
   "name": "python",
   "nbconvert_exporter": "python",
   "pygments_lexer": "ipython3",
   "version": "3.7.7"
  }
 },
 "nbformat": 4,
 "nbformat_minor": 1
}