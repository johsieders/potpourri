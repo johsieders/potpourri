{
 "cells": [
  {
   "cell_type": "code",
   "execution_count": 1,
   "metadata": {
    "collapsed": true
   },
   "outputs": [],
   "source": [
    "from torchtext import data"
   ]
  },
  {
   "cell_type": "code",
   "execution_count": null,
   "metadata": {
    "pycharm": {
     "name": "#%%\n"
    }
   },
   "outputs": [],
   "source": [
    "pos = data.TabularDataset(\n",
    "path='data/pos/pos_wsj_train.tsv', format='tsv',\n",
    "fields=[('text', data.Field()),\n",
    "        ('labels', data.Field())])"
   ]
  },
  {
   "cell_type": "code",
   "execution_count": null,
   "metadata": {
    "pycharm": {
     "name": "#%%\n"
    }
   },
   "outputs": [],
   "source": [
    "sentiment = data.TabularDataset(\n",
    "    path='data/sentiment/train.json', format='json',\n",
    "    fields={'sentence_tokenized': ('text', data.Field(sequential=True)),\n",
    "             'sentiment_gold': ('labels', data.Field(sequential=False))})\n"
   ]
  },
  {
   "cell_type": "code",
   "execution_count": null,
   "metadata": {
    "pycharm": {
     "name": "#%%\n"
    }
   },
   "outputs": [],
   "source": [
    "dict = {\"foods\": {\n",
    "    \"fruits\"    : [\"Apple\", \"Banana\"],\n",
    "    \"vegetables\": [{\"name\": \"lettuce\"}, {\"name\": \"marrow\"}]\n",
    "    }\n",
    "}\n"
   ]
  },
  {
   "cell_type": "code",
   "execution_count": null,
   "metadata": {
    "pycharm": {
     "name": "#%%\n"
    }
   },
   "outputs": [],
   "source": [
    "fields = {'foods.vegetables.name': ('vegs', data.Field())}\n",
    "dataset = data.TabularDataset(path='sample.json', format='json', fields=fields)\n",
    "dataset.examples[0].vegs\n"
   ]
  }
 ],
 "metadata": {
  "kernelspec": {
   "display_name": "Python 3",
   "language": "python",
   "name": "python3"
  },
  "language_info": {
   "codemirror_mode": {
    "name": "ipython",
    "version": 3
   },
   "file_extension": ".py",
   "mimetype": "text/x-python",
   "name": "python",
   "nbconvert_exporter": "python",
   "pygments_lexer": "ipython3",
   "version": "3.8.5"
  }
 },
 "nbformat": 4,
 "nbformat_minor": 1
}
