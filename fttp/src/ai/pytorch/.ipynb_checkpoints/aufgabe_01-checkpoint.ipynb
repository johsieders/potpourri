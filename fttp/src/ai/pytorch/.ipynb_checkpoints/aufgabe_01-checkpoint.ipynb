{
 "cells": [
  {
   "cell_type": "code",
   "execution_count": 3,
   "metadata": {},
   "outputs": [],
   "source": [
    "import torch\n",
    "import torch.nn as nn\n",
    "import torch.optim as optim\n",
    "import matplotlib.pyplot as plt\n",
    "\n",
    "# X = Input 4 x 2\n",
    "# Y = Output  4 x 1"
   ]
  },
  {
   "cell_type": "code",
   "execution_count": 4,
   "metadata": {
    "pycharm": {
     "name": "#%%\n"
    }
   },
   "outputs": [],
   "source": [
    "def prepare21():\n",
    "\n",
    "    X = torch.tensor([[0, 0], [0, 1], [1, 0], [1, 1]], requires_grad=True, dtype=torch.float32)\n",
    "    Y = torch.tensor([[0], [1], [1], [1]], dtype=torch.float32)\n",
    "    F = nn.Sequential(nn.Linear(2, 1), nn.Sigmoid())\n",
    "    optimizer = optim.SGD(F.parameters(), lr=0.3)\n",
    "    loss = nn.MSELoss()\n",
    "\n",
    "    return X, Y, F, optimizer, loss"
   ]
  },
  {
   "cell_type": "code",
   "execution_count": 5,
   "metadata": {
    "pycharm": {
     "name": "#%%\n"
    }
   },
   "outputs": [],
   "source": [
    "def prepare21a():\n",
    "    X = torch.tensor([[0, 0], [0, 1], [1, 0], [1, 1]], requires_grad=True, dtype=torch.float32)\n",
    "    Y = torch.tensor([0, 1, 1, 1], dtype=torch.long)\n",
    "    F = nn.Sequential(nn.Linear(2, 2), nn.ReLU())\n",
    "    optimizer = optim.SGD(F.parameters(), lr=0.02)\n",
    "    loss = nn.CrossEntropyLoss()\n",
    "\n",
    "    return X, Y, F, optimizer, loss"
   ]
  },
  {
   "cell_type": "code",
   "execution_count": 7,
   "metadata": {
    "pycharm": {
     "name": "#%%\n"
    }
   },
   "outputs": [],
   "source": [
    "def fit(X, Y, F, optimizer, loss):\n",
    "    cnt = 0\n",
    "    history = []\n",
    "\n",
    "    while cnt < 1001:\n",
    "            currentLoss = loss(F(X), Y)\n",
    "            if cnt % 100 == 0:\n",
    "                history.append(currentLoss.item())\n",
    "            currentLoss.backward()\n",
    "            optimizer.step()\n",
    "            optimizer.zero_grad()\n",
    "            cnt += 1\n",
    "\n",
    "    return history"
   ]
  },
  {
   "cell_type": "code",
   "execution_count": 8,
   "metadata": {
    "pycharm": {
     "name": "#%%\n"
    }
   },
   "outputs": [],
   "source": [
    "def plot(history):\n",
    "    plt.plot(history, label='training loss')\n",
    "    plt.legend(loc='center left', bbox_to_anchor=(1, 0.5))\n",
    "    plt.ylabel('loss')\n",
    "    plt.xlabel('iterations')\n"
   ]
  },
  {
   "cell_type": "code",
   "execution_count": null,
   "metadata": {
    "pycharm": {
     "name": "#%%\n"
    }
   },
   "outputs": [],
   "source": [
    "X, Y, F, optimizer, loss = prepare21a()\n",
    "history = fit(X, Y, F, optimizer, loss)\n",
    "plot(history)\n"
   ]
  },
  {
   "cell_type": "code",
   "execution_count": null,
   "metadata": {},
   "outputs": [],
   "source": []
  }
 ],
 "metadata": {
  "kernelspec": {
   "display_name": "Python 3",
   "language": "python",
   "name": "python3"
  },
  "language_info": {
   "codemirror_mode": {
    "name": "ipython",
    "version": 3
   },
   "file_extension": ".py",
   "mimetype": "text/x-python",
   "name": "python",
   "nbconvert_exporter": "python",
   "pygments_lexer": "ipython3",
   "version": "3.8.5"
  }
 },
 "nbformat": 4,
 "nbformat_minor": 1
}
