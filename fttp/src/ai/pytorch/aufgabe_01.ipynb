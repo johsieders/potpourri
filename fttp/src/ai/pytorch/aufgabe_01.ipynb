{
 "cells": [
  {
   "cell_type": "code",
   "metadata": {
    "ExecuteTime": {
     "end_time": "2025-04-18T14:55:41.641486Z",
     "start_time": "2025-04-18T14:55:38.954787Z"
    }
   },
   "source": [
    "import torch\n",
    "from torch import tensor, float32\n",
    "import torch.nn as nn\n",
    "import torch.optim as optim\n",
    "import matplotlib.pyplot as plt\n"
   ],
   "outputs": [],
   "execution_count": 1
  },
  {
   "cell_type": "markdown",
   "source": [
    "### A hand-knitted Learner (included in Keras and fastai, not in Pytorch)"
   ],
   "metadata": {
    "collapsed": false,
    "pycharm": {
     "name": "#%% md\n"
    }
   }
  },
  {
   "cell_type": "code",
   "metadata": {
    "pycharm": {
     "name": "#%%\n"
    },
    "ExecuteTime": {
     "end_time": "2025-04-18T14:55:41.680732Z",
     "start_time": "2025-04-18T14:55:41.663622Z"
    }
   },
   "source": [
    "class Learner(object):\n",
    "    def __init__(self, X, Y, G, optimizer, loss):\n",
    "        self.X = X\n",
    "        self.Y = Y\n",
    "        self.G = G\n",
    "        self.optimizer = optimizer\n",
    "        self.loss = loss\n",
    "\n",
    "    def fit(self):\n",
    "        cnt = 0\n",
    "        history = []\n",
    "\n",
    "        while cnt < 101:\n",
    "            currentLoss = self.loss(self.G(self.X), self.Y)\n",
    "            if cnt % 10 == 0:\n",
    "                history.append(currentLoss.item())\n",
    "            currentLoss.backward()\n",
    "            self.optimizer.step()\n",
    "            self.optimizer.zero_grad()\n",
    "            cnt += 1\n",
    "\n",
    "        return history\n",
    "\n",
    "    def result(self):\n",
    "        return self.G(self.X)\n"
   ],
   "outputs": [],
   "execution_count": 2
  },
  {
   "cell_type": "markdown",
   "source": [
    "### Regressor with mean square error loss"
   ],
   "metadata": {
    "collapsed": false,
    "pycharm": {
     "name": "#%% md\n"
    }
   }
  },
  {
   "cell_type": "code",
   "metadata": {
    "pycharm": {
     "name": "#%%\n"
    },
    "ExecuteTime": {
     "end_time": "2025-04-18T14:55:41.702160Z",
     "start_time": "2025-04-18T14:55:41.693700Z"
    }
   },
   "source": [
    "# X = Input (4 x 2)\n",
    "# Y = Output  (4 x 1)\n",
    "\n",
    "def prepare21(lr):\n",
    "   \n",
    "    X = tensor((0, 0, 0, 1, 1, 0, 1, 1), requires_grad=True, dtype=float32).reshape(4, 2)\n",
    "    Y = tensor((0, 0, 0, 1), dtype=torch.float32).reshape(4, 1)\n",
    "    M = nn.Sequential(nn.Linear(2, 1), nn.Sigmoid())\n",
    "\n",
    "    d = {'0.weight': torch.tensor([[1., 1.]]),\n",
    "         '0.bias': torch.tensor([0.0])}\n",
    "    M.load_state_dict(d)\n",
    "\n",
    "    optimizer = optim.SGD(M.parameters(), lr=lr)\n",
    "    loss = nn.MSELoss()\n",
    "\n",
    "    return Learner(X, Y, M, optimizer, loss)"
   ],
   "outputs": [],
   "execution_count": 3
  },
  {
   "cell_type": "markdown",
   "source": [
    "### Classifier with binary cross entropy loss"
   ],
   "metadata": {
    "collapsed": false,
    "pycharm": {
     "name": "#%% md\n"
    }
   }
  },
  {
   "cell_type": "code",
   "metadata": {
    "pycharm": {
     "name": "#%%\n"
    },
    "ExecuteTime": {
     "end_time": "2025-04-18T14:55:41.975831Z",
     "start_time": "2025-04-18T14:55:41.970695Z"
    }
   },
   "source": [
    "# X = Input (4 x 2)\n",
    "# Y = Output  (4 x 1)\n",
    "\n",
    "def prepare21a(lr):\n",
    "   \n",
    "    X = tensor((0, 0, 0, 1, 1, 0, 1, 1), requires_grad=True, dtype=float32).reshape(4, 2)\n",
    "    Y = tensor((0, 0, 0, 1), dtype=torch.float32).reshape(4, 1)\n",
    "    M = nn.Linear(2, 1)\n",
    "\n",
    "    optimizer = optim.SGD(M.parameters(), lr=lr)\n",
    "    loss = nn.BCEWithLogitsLoss()\n",
    "\n",
    "    return Learner(X, Y, M, optimizer, loss)"
   ],
   "outputs": [],
   "execution_count": 4
  },
  {
   "cell_type": "markdown",
   "source": [
    "### Classifier with cross entropy loss"
   ],
   "metadata": {
    "collapsed": false,
    "pycharm": {
     "name": "#%% md\n"
    }
   }
  },
  {
   "cell_type": "code",
   "metadata": {
    "pycharm": {
     "name": "#%%\n"
    },
    "ExecuteTime": {
     "end_time": "2025-04-18T14:55:41.993961Z",
     "start_time": "2025-04-18T14:55:41.989173Z"
    }
   },
   "source": [
    "# X = Input (4 x 2)\n",
    "# Y = Output  (4)\n",
    "\n",
    "def prepare22(lr):\n",
    "    X = tensor((0, 0, 0, 1, 1, 0, 1, 1), requires_grad=True, dtype=float32).reshape(4, 2)\n",
    "    Y = tensor((0, 0, 0, 1), dtype=torch.long).reshape(4)\n",
    "    M = nn.Linear(2, 2)\n",
    "\n",
    "    optimizer = optim.SGD(M.parameters(), lr=lr)\n",
    "    loss = nn.CrossEntropyLoss()\n",
    "\n",
    "    return Learner(X, Y, M, optimizer, loss)"
   ],
   "outputs": [],
   "execution_count": 5
  },
  {
   "cell_type": "code",
   "metadata": {
    "pycharm": {
     "name": "#%%\n"
    },
    "ExecuteTime": {
     "end_time": "2025-04-18T14:55:42.068974Z",
     "start_time": "2025-04-18T14:55:42.054279Z"
    }
   },
   "source": [
    "def plot(history):\n",
    "    plt.plot(history, label='training loss')\n",
    "    plt.legend(loc='center left', bbox_to_anchor=(1, 0.5))\n",
    "    plt.ylabel('loss')\n",
    "    plt.xlabel('iterations')\n"
   ],
   "outputs": [],
   "execution_count": 6
  },
  {
   "cell_type": "code",
   "metadata": {
    "pycharm": {
     "name": "#%%\n"
    },
    "jupyter": {
     "is_executing": true
    },
    "ExecuteTime": {
     "start_time": "2025-04-18T14:55:42.089866Z"
    }
   },
   "source": [
    "learn = prepare21(0.3)\n",
    "history = learn.fit()\n",
    "plot(history)\n",
    "learn.result()"
   ],
   "outputs": [
    {
     "data": {
      "text/plain": [
       "tensor([[0.1328],\n",
       "        [0.3140],\n",
       "        [0.3140],\n",
       "        [0.5778]], grad_fn=<SigmoidBackward0>)"
      ]
     },
     "execution_count": 7,
     "metadata": {},
     "output_type": "execute_result"
    }
   ],
   "execution_count": null
  },
  {
   "cell_type": "code",
   "execution_count": 22,
   "metadata": {
    "pycharm": {
     "name": "#%%\n"
    }
   },
   "outputs": [
    {
     "data": {
      "text/plain": "tensor([[-3.3879],\n        [-1.2809],\n        [-1.3286],\n        [ 0.7783]], grad_fn=<AddmmBackward>)"
     },
     "execution_count": 22,
     "metadata": {},
     "output_type": "execute_result"
    },
    {
     "data": {
      "text/plain": "<Figure size 432x288 with 1 Axes>",
      "image/png": "[encoded data removed]"
     },
     "metadata": {
      "needs_background": "light"
     },
     "output_type": "display_data"
    }
   ],
   "source": [
    "learn = prepare21a(0.05)\n",
    "history = learn.fit()\n",
    "plot(history)\n",
    "learn.result()"
   ]
  },
  {
   "cell_type": "code",
   "execution_count": 18,
   "metadata": {
    "pycharm": {
     "name": "#%%\n"
    }
   },
   "outputs": [
    {
     "data": {
      "text/plain": "tensor([[ 2.7760, -3.8471],\n        [ 0.8328, -1.5026],\n        [ 0.3783, -1.9568],\n        [-1.5650,  0.3877]], grad_fn=<AddmmBackward>)"
     },
     "execution_count": 18,
     "metadata": {},
     "output_type": "execute_result"
    },
    {
     "data": {
      "text/plain": "<Figure size 432x288 with 1 Axes>",
      "image/png": "[encoded data removed]"
     },
     "metadata": {
      "needs_background": "light"
     },
     "output_type": "display_data"
    }
   ],
   "source": [
    "learn = prepare22(0.1)\n",
    "history = learn.fit()\n",
    "plot(history)\n",
    "learn.result()"
   ]
  },
  {
   "cell_type": "code",
   "execution_count": 18,
   "metadata": {},
   "outputs": [],
   "source": []
  }
 ],
 "metadata": {
  "kernelspec": {
   "display_name": "Python 3",
   "language": "python",
   "name": "python3"
  },
  "language_info": {
   "codemirror_mode": {
    "name": "ipython",
    "version": 3
   },
   "file_extension": ".py",
   "mimetype": "text/x-python",
   "name": "python",
   "nbconvert_exporter": "python",
   "pygments_lexer": "ipython3",
   "version": "3.8.5"
  }
 },
 "nbformat": 4,
 "nbformat_minor": 1
}
