{
 "cells": [
  {
   "cell_type": "markdown",
   "metadata": {},
   "source": [
    "# Aufgabe 2: Regression einer beliebige Funktion\n",
    "\n",
    "Deine Aufgabe ist es ein neuronales Netz zu bauen, dass eine von Dir definierte mathematische Funktion lernt. Dein Netz soll als Input einen X-Wert bekommen und dazu den Y-Wert der gelernten mathematischen Funktion berechnen.\n",
    "\n",
    "### Hinweis\n",
    "Optimiere das Lernen (`model.fit`) durch das Setzen des Parameters `batch_size` auf die Anzahl der X-Werte. Damit jupyter notebook sich beim Lernen nicht aufhängt, setze auch zusätzlich den Paramter `verbose=0`."
   ]
  },
  {
   "cell_type": "markdown",
   "metadata": {},
   "source": [
    "### Importiere Bibliotheken"
   ]
  },
  {
   "cell_type": "code",
   "execution_count": null,
   "metadata": {
    "collapsed": false
   },
   "outputs": [],
   "source": [
    "# Plots sollen inline im notebook angezeigt werden\n",
    "%matplotlib inline\n",
    "\n",
    "import numpy as np\n",
    "\n",
    "from keras.models import Sequential, InputLayer\n",
    "from keras import losses\n",
    "from keras import optimizers\n",
    "from keras.layers.core import Dense\n",
    "\n",
    "import matplotlib.pyplot as plt\n",
    "\n",
    "# Für Bitcoinkurs\n",
    "import codefestutils\n",
    "\n",
    "# Zusätzlich benötigen wir hier noch eine Interpolationsfunktion\n",
    "from scipy.interpolate import interp1d"
   ]
  },
  {
   "cell_type": "markdown",
   "metadata": {},
   "source": [
    "### <span style=\"color:red\">TODO:</span> Definiere Eingabe und die erwartete Ausgabe"
   ]
  },
  {
   "cell_type": "code",
   "execution_count": null,
   "metadata": {
    "collapsed": false
   },
   "outputs": [],
   "source": [
    "# Definiere beliebige Funktion im Bereich zwischen -1 < x < 1 und 0 < y < 1\n",
    "X = np.linspace(-1, 1, num=20, endpoint=True)\n",
    "Y = (np.sin(X*3) + 1) * 0.3\n",
    "\n",
    "# Falls Du die Bitcoin-Kurse als Funktion haben möchtest, dann kommentier die nächste Zeile ein.\n",
    "# X, Y = codefestutils.GetBitcoinIndex()\n",
    "\n",
    "# Plotte die Funktion\n",
    "plt.plot(X, Y, 'o')\n",
    "plt.show()"
   ]
  },
  {
   "cell_type": "markdown",
   "metadata": {},
   "source": [
    "### Vorverarbeitung der Daten für Keras erforderlich"
   ]
  },
  {
   "cell_type": "code",
   "execution_count": null,
   "metadata": {
    "collapsed": false
   },
   "outputs": [],
   "source": [
    "# Die Eingabedaten sind noch nicht in einem Tabellenformat, welches Keras versteht\n",
    "X = X.reshape(X.shape[0], 1)\n",
    "Y = Y.reshape(Y.shape[0], 1)\n",
    "\n",
    "# Gebe die Dimension des Arrays aus\n",
    "print(X.shape)\n",
    "print(Y.shape)"
   ]
  },
  {
   "cell_type": "markdown",
   "metadata": {},
   "source": [
    "### <span style=\"color:red\">TODO:</span> Definiere das Modell"
   ]
  },
  {
   "cell_type": "code",
   "execution_count": null,
   "metadata": {
    "collapsed": false
   },
   "outputs": [],
   "source": [
    "model = Sequential()\n",
    "\n",
    "# ... TODO ...\n",
    "\n",
    "model.summary()"
   ]
  },
  {
   "cell_type": "markdown",
   "metadata": {},
   "source": [
    "### <span style=\"color:red\">TODO:</span> Konfiguriere den Lernalgorithmus"
   ]
  },
  {
   "cell_type": "code",
   "execution_count": null,
   "metadata": {
    "collapsed": true
   },
   "outputs": [],
   "source": [
    "# ... TODO ..."
   ]
  },
  {
   "cell_type": "markdown",
   "metadata": {},
   "source": [
    "### <span style=\"color:red\">TODO:</span> Lass dein Modell lernen"
   ]
  },
  {
   "cell_type": "code",
   "execution_count": null,
   "metadata": {
    "collapsed": false
   },
   "outputs": [],
   "source": [
    "history = # ... TODO ..."
   ]
  },
  {
   "cell_type": "markdown",
   "metadata": {},
   "source": [
    "### Testphase"
   ]
  },
  {
   "cell_type": "code",
   "execution_count": null,
   "metadata": {
    "collapsed": false
   },
   "outputs": [],
   "source": [
    "X_predict = np.linspace(-2, 2, num=100, endpoint=True)\n",
    "Y_predict = model.predict(X_predict)\n",
    "\n",
    "plt.plot(X, Y, 'o', X_predict, Y_predict, '-')\n",
    "plt.legend(['data', 'prediction'], loc='best')\n",
    "plt.show()"
   ]
  },
  {
   "cell_type": "markdown",
   "metadata": {},
   "source": [
    "### Fehlerfunktion"
   ]
  },
  {
   "cell_type": "code",
   "execution_count": null,
   "metadata": {
    "collapsed": false
   },
   "outputs": [],
   "source": [
    "# history output\n",
    "plt.plot(history.history['loss'], label='training loss')\n",
    "plt.legend(loc='center left', bbox_to_anchor=(1, 0.5))\n",
    "plt.ylabel('loss')\n",
    "plt.xlabel('iterations')\n",
    "plt.show()"
   ]
  }
 ],
 "metadata": {
  "anaconda-cloud": {},
  "kernelspec": {
   "display_name": "Python [default]",
   "language": "python",
   "name": "python3"
  },
  "language_info": {
   "codemirror_mode": {
    "name": "ipython",
    "version": 3
   },
   "file_extension": ".py",
   "mimetype": "text/x-python",
   "name": "python",
   "nbconvert_exporter": "python",
   "pygments_lexer": "ipython3",
   "version": "3.5.2"
  }
 },
 "nbformat": 4,
 "nbformat_minor": 1
}
