{
 "cells": [
  {
   "cell_type": "markdown",
   "metadata": {},
   "source": [
    "# Aufgabe 4 - Autoencoder\n",
    "\n",
    "Ein Autoencoder ist ein künstliches neuronales Netz, das dazu genutzt wird, effiziente Codierungen zu lernen. Das Ziel eines Autoencoders ist es, eine komprimierte Repräsentation (Encoding) für einen Satz Daten zu lernen und somit auch wesentliche Merkmale zu extrahieren.\n",
    "\n",
    "Baue zwei neuronale Netze: Das erste soll ein Bild auf 5 Werte komprimieren und das Zweite soll aus den 5 Werten wieder das Originalbild rekonstruieren.\n",
    "\n",
    "![alt text](autoencoder.png)\n",
    "\n",
    "### Hinweise\n",
    "* Du wirst das Layer \"Reshape\" brauchen: https://keras.io/layers/core/#reshape\n",
    "* Die Inverse von Conv2D ist Conv2DTranspose: https://keras.io/layers/convolutional/#conv2dtranspose\n",
    "* Optimierung: Nutzt den Parameter strides=2"
   ]
  },
  {
   "cell_type": "markdown",
   "metadata": {},
   "source": [
    "### Importiere Bibliotheken"
   ]
  },
  {
   "cell_type": "code",
   "execution_count": null,
   "metadata": {
    "collapsed": false
   },
   "outputs": [],
   "source": [
    "import numpy as np\n",
    "\n",
    "from keras.models import Sequential, load_model\n",
    "from keras import losses\n",
    "from keras import optimizers\n",
    "from keras.layers import Conv2D, InputLayer, Conv2DTranspose\n",
    "from keras.layers import Dense, Dropout, Flatten, Reshape, MaxPool2D\n",
    "\n",
    "from keras_tqdm import TQDMNotebookCallback\n",
    "import matplotlib.pyplot as plt\n",
    "\n",
    "import codefestutils"
   ]
  },
  {
   "cell_type": "markdown",
   "metadata": {},
   "source": [
    "### Lade Bilder"
   ]
  },
  {
   "cell_type": "code",
   "execution_count": null,
   "metadata": {
    "collapsed": false,
    "scrolled": true
   },
   "outputs": [],
   "source": [
    "#Lade n Gesichter. In der SEU sind insgesamt 1000 Bilder gespeichert\n",
    "n = 1000\n",
    "X,Y = codefestutils.LoadFaces(n)\n",
    "print(X.shape)\n",
    "width = X.shape[2]\n",
    "height = X.shape[1]"
   ]
  },
  {
   "cell_type": "markdown",
   "metadata": {},
   "source": [
    "### Definition der Anzahl der Neuronen in der kleinsten Zwischenschicht"
   ]
  },
  {
   "cell_type": "code",
   "execution_count": null,
   "metadata": {
    "collapsed": true
   },
   "outputs": [],
   "source": [
    "# Die Anzahl der Neuronen in der kleinsten Zwischenschicht\n",
    "nLatentSpace = 5"
   ]
  },
  {
   "cell_type": "markdown",
   "metadata": {},
   "source": [
    "### <span style=\"color:red\">TODO:</span> Definiere das Modell"
   ]
  },
  {
   "cell_type": "code",
   "execution_count": null,
   "metadata": {
    "collapsed": true
   },
   "outputs": [],
   "source": [
    "#Baue den Encoder des Netzwerkes\n",
    "encoder = Sequential()\n",
    "# ... TODO ENCODER ...\n",
    "encoder.summary()"
   ]
  },
  {
   "cell_type": "code",
   "execution_count": null,
   "metadata": {
    "collapsed": true
   },
   "outputs": [],
   "source": [
    "#Baue den Decoder des Netzwerkes\n",
    "decoder = Sequential()\n",
    "# ... TODO DECODER ...\n",
    "decoder.summary()"
   ]
  },
  {
   "cell_type": "code",
   "execution_count": null,
   "metadata": {
    "collapsed": false
   },
   "outputs": [],
   "source": [
    "#Nun baue beides zusammen\n",
    "model = Sequential()\n",
    "# ... TODO ...\n",
    "model.summary();"
   ]
  },
  {
   "cell_type": "markdown",
   "metadata": {},
   "source": [
    "### <span style=\"color:red\">TODO:</span> Konfiguriere den Lernalgorithmus"
   ]
  },
  {
   "cell_type": "code",
   "execution_count": null,
   "metadata": {
    "collapsed": true
   },
   "outputs": [],
   "source": [
    "# ... TODO ..."
   ]
  },
  {
   "cell_type": "markdown",
   "metadata": {},
   "source": [
    "### <span style=\"color:red\">TODO:</span> Lass dein Modell lernen"
   ]
  },
  {
   "cell_type": "code",
   "execution_count": null,
   "metadata": {
    "collapsed": false
   },
   "outputs": [],
   "source": [
    "history = # ... TODO ..."
   ]
  },
  {
   "cell_type": "markdown",
   "metadata": {},
   "source": [
    "### Testphase"
   ]
  },
  {
   "cell_type": "code",
   "execution_count": null,
   "metadata": {
    "collapsed": false
   },
   "outputs": [],
   "source": [
    "idx = 9\n",
    "output = model.predict(X[idx:idx+1])[0]\n",
    "codefestutils.ShowImage(np.concatenate((X[idx], output), axis=1))"
   ]
  },
  {
   "cell_type": "markdown",
   "metadata": {},
   "source": [
    "### Plote die KPIs"
   ]
  },
  {
   "cell_type": "code",
   "execution_count": null,
   "metadata": {
    "collapsed": false
   },
   "outputs": [],
   "source": [
    "plt.plot(history.history['loss'], label='training loss')\n",
    "plt.plot(history.history['val_loss'], label='validation loss')\n",
    "plt.legend(loc='center left', bbox_to_anchor=(1, 0.5))\n",
    "plt.ylabel('loss')\n",
    "plt.xlabel('iterations')\n",
    "plt.show()"
   ]
  },
  {
   "cell_type": "markdown",
   "metadata": {},
   "source": [
    "### Beispiel Featurevektor"
   ]
  },
  {
   "cell_type": "code",
   "execution_count": null,
   "metadata": {
    "collapsed": false
   },
   "outputs": [],
   "source": [
    "# Featurevektor extrahieren\n",
    "idx = 1\n",
    "encoder.predict(X[idx:idx+1])[0]"
   ]
  },
  {
   "cell_type": "markdown",
   "metadata": {},
   "source": [
    "### <span style=\"color:red\">TODO:</span> Spiele herum und generiere zufällige Gesichter"
   ]
  },
  {
   "cell_type": "code",
   "execution_count": null,
   "metadata": {
    "collapsed": false
   },
   "outputs": [],
   "source": [
    "# Erzeuge ein zufälliges Gesicht\n",
    "random = np.random.rand(1, nLatentSpace) * 20 - 10\n",
    "codefestutils.ShowImage(decoder.predict(random)[0])"
   ]
  }
 ],
 "metadata": {
  "anaconda-cloud": {},
  "kernelspec": {
   "display_name": "Python [default]",
   "language": "python",
   "name": "python3"
  },
  "language_info": {
   "codemirror_mode": {
    "name": "ipython",
    "version": 3
   },
   "file_extension": ".py",
   "mimetype": "text/x-python",
   "name": "python",
   "nbconvert_exporter": "python",
   "pygments_lexer": "ipython3",
   "version": "3.5.2"
  }
 },
 "nbformat": 4,
 "nbformat_minor": 1
}
