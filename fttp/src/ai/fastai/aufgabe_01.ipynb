{
 "cells": [
  {
   "cell_type": "code",
   "execution_count": null,
   "metadata": {
    "pycharm": {
     "name": "#%%\n"
    }
   },
   "outputs": [],
   "source": [
    "import torch\n",
    "from torch import float32, tensor, nn\n",
    "\n",
    "from torch.utils.data import DataLoader\n",
    "from fastai.data.load import DataLoader\n",
    "from fastai.data.core import DataLoaders\n",
    "from fastai.learner import Learner\n",
    "from fastai.optimizer import SGD\n",
    "from fastai.metrics import accuracy\n",
    "\n",
    "import matplotlib.pyplot as plt"
   ]
  },
  {
   "cell_type": "markdown",
   "metadata": {
    "pycharm": {
     "name": "#%% md\n"
    }
   },
   "source": [
    "### Regressor with mean square error loss"
   ]
  },
  {
   "cell_type": "code",
   "execution_count": null,
   "metadata": {
    "collapsed": false,
    "jupyter": {
     "outputs_hidden": false
    },
    "pycharm": {
     "name": "#%%\n"
    }
   },
   "outputs": [],
   "source": [
    "X = tensor((0, 0, 0, 1, 1, 0, 1, 1), requires_grad=True, dtype=float32).reshape(4, 2)\n",
    "Y = tensor((0, 0, 0, 1), dtype=torch.float32).reshape(4, 1)\n",
    "F_train = list(zip(X, Y))\n",
    "\n",
    "dl = DataLoader(F_train, batch_size=4)\n",
    "dls = DataLoaders(dl, dl)\n",
    "\n",
    "from fastai.losses import MSELossFlat\n",
    "M = nn.Sequential(nn.Linear(2, 1), nn.Sigmoid())\n",
    "learner = Learner(dls, M, opt_func=SGD, loss_func=MSELossFlat(), metrics=accuracy)\n",
    "\n",
    "learner.fit_one_cycle(1)\n",
    "learner.lr_find(end_lr=100)\n",
    "learner.recorder.plot()"
   ]
  },
  {
   "cell_type": "markdown",
   "metadata": {
    "pycharm": {
     "name": "#%% md\n"
    }
   },
   "source": [
    "### Classifier with binary cross entropy loss"
   ]
  },
  {
   "cell_type": "code",
   "execution_count": null,
   "metadata": {
    "pycharm": {
     "name": "#%%\n"
    }
   },
   "outputs": [],
   "source": [
    "from fastai.losses import BCELossFlat\n",
    "\n",
    "X = tensor((0, 0, 0, 1, 1, 0, 1, 1), requires_grad=True, dtype=float32).reshape(4, 2)\n",
    "Y = tensor((0, 0, 0, 1), dtype=torch.long).reshape(4, 1)\n",
    "F_train = list(zip(X, Y))\n",
    "\n",
    "dl = DataLoader(F_train, batch_size=4)\n",
    "dls = DataLoaders(dl, dl)\n",
    "\n",
    "M = nn.Linear(2, 1)\n",
    "learner = Learner(dls, M, opt_func=SGD, loss_func=BCELossFlat(), metrics=accuracy)\n",
    "\n",
    "learner.fit_one_cycle(1)\n",
    "learner.lr_find(end_lr=100)\n",
    "learner.recorder.plot()\n"
   ]
  },
  {
   "cell_type": "markdown",
   "metadata": {
    "pycharm": {
     "name": "#%% md\n"
    }
   },
   "source": [
    "### Classifier with cross entropy loss"
   ]
  },
  {
   "cell_type": "code",
   "execution_count": null,
   "metadata": {
    "collapsed": false,
    "jupyter": {
     "outputs_hidden": false
    },
    "pycharm": {
     "name": "#%%\n"
    }
   },
   "outputs": [],
   "source": [
    "from fastai.losses import CrossEntropyLossFlat\n",
    "\n",
    "X = tensor((0, 0, 0, 1, 1, 0, 1, 1), requires_grad=True, dtype=float32).reshape(4, 2)\n",
    "Y = tensor((0, 0, 0, 1), dtype=torch.long).reshape(4)\n",
    "F_train = list(zip(X, Y))\n",
    "\n",
    "dl = DataLoader(F_train, batch_size=4)\n",
    "dls = DataLoaders(dl, dl)\n",
    "\n",
    "M = nn.Linear(2, 2)\n",
    "learner = Learner(dls, M, opt_func=SGD, loss_func=CrossEntropyLossFlat(), metrics=accuracy)\n",
    "\n",
    "learner.fit_one_cycle(1)\n",
    "learner.lr_find(end_lr=100)\n",
    "learner.recorder.plot()"
   ]
  }
 ],
 "metadata": {
  "kernelspec": {
   "display_name": "Python 3",
   "language": "python",
   "name": "python3"
  },
  "language_info": {
   "codemirror_mode": {
    "name": "ipython",
    "version": 3
   },
   "file_extension": ".py",
   "mimetype": "text/x-python",
   "name": "python",
   "nbconvert_exporter": "python",
   "pygments_lexer": "ipython3",
   "version": "3.8.5"
  }
 },
 "nbformat": 4,
 "nbformat_minor": 4
}
