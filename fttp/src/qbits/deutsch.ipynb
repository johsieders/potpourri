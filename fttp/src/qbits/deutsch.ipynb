{
 "cells": [
  {
   "cell_type": "markdown",
   "source": [
    "## The Algorithms of Deutsch and Bernstein-Vazirani"
   ],
   "metadata": {
    "collapsed": false,
    "pycharm": {
     "name": "#%% md\n"
    }
   }
  },
  {
   "cell_type": "markdown",
   "source": [
    "We are given a function $f: \\{0, 1\\}^n -> \\{0, 1\\}$.\n",
    "How can we store $f$ in a quantum computer? In classical programming we would just use a map, but there\n",
    "are no maps in quantum computing. The way to go is as follows: Let\n",
    "\n",
    "$X =\\begin{bmatrix}\n",
    "  0 & 1 \\\\\n",
    "  1 & 0\n",
    "\\end{bmatrix}$\n",
    "\n",
    "\n",
    "Then $X^0 \\begin{bmatrix}\n",
    "  1  \\\\\n",
    "  -1\n",
    "\\end{bmatrix}\n",
    " =\n",
    "\\begin{bmatrix}\n",
    "  1  \\\\\n",
    "  -1\n",
    "\\end{bmatrix}$\n",
    "\n",
    "and $X^1\n",
    "\\begin{bmatrix}\n",
    "  1  \\\\\n",
    "  -1\n",
    "\\end{bmatrix} =\n",
    "\\begin{bmatrix}\n",
    "  -1  \\\\\n",
    "  1\n",
    "\\end{bmatrix}$\n",
    "\n",
    "\n",
    "The idea is to represent $f$ as a $(2N \\times 2N)$-Matrix $U_f$ with $N = 2^n$:\n",
    "\n",
    "$\n",
    "U_f = \\underbrace{\\begin{bmatrix}\n",
    "\\ddots  \\\\\n",
    "& X^{f(x)} \\\\\n",
    "& & \\ddots \\\\\n",
    "\\end{bmatrix}}_{2N \\times 2N} $\n",
    "\n",
    "$\n",
    "U_f : \\underbrace{\\left[\\begin{array}{c}\n",
    "\\vdots \\\\\n",
    "f(x) \\\\\n",
    "\\vdots \\\\\n",
    "\\end{array}\\right]}_{N \\times 1}\n",
    "$\n",
    "\n"
   ],
   "metadata": {
    "collapsed": false,
    "pycharm": {
     "name": "#%% md\n"
    }
   }
  }
 ],
 "metadata": {
  "kernelspec": {
   "display_name": "Python 3",
   "language": "python",
   "name": "python3"
  },
  "language_info": {
   "codemirror_mode": {
    "name": "ipython",
    "version": 2
   },
   "file_extension": ".py",
   "mimetype": "text/x-python",
   "name": "python",
   "nbconvert_exporter": "python",
   "pygments_lexer": "ipython2",
   "version": "2.7.6"
  }
 },
 "nbformat": 4,
 "nbformat_minor": 0
}